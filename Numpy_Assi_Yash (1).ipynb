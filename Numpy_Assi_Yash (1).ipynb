{
  "nbformat": 4,
  "nbformat_minor": 0,
  "metadata": {
    "colab": {
      "provenance": []
    },
    "kernelspec": {
      "name": "python3",
      "display_name": "Python 3"
    },
    "language_info": {
      "name": "python"
    }
  },
  "cells": [
    {
      "cell_type": "code",
      "execution_count": null,
      "metadata": {
        "id": "D-CuHAw1XuWc"
      },
      "outputs": [],
      "source": [
        "#Que 1. Explain the purpose and advantages of NumPy in scientific computing and data analysis. How does it enhance Python's capabilities for numerical operations?\n",
        "\n",
        "#Ans. #NumPy is a powerful, well-optimized, free open-source library for the Python programming language, adding support for large, multi-dimensional arrays (also called matrices or\n",
        "#tensors). NumPy also comes equipped #with a collection of high-level mathematical functions to work in conjunction with these arrays. These include basic linear algebra, random\n",
        "#simulation, Fourier transforms, trigonometric operations, and statistical #Xoperations.\n",
        "#NumPy stands for ‘numerical Python’, and builds on the early work of the Numeric and Numarray libraries with the goal to give fast numeric computation to Python.\n",
        "#Today NumPy has numerous contributors and is sponsored by NumFOCUS.\n",
        "\n",
        "#A multidimensional array is a central data structure of a NumPy library, and generically represents a grid of values. NumPy’s ndarray, a homogeneous n-dimensional array object,\n",
        "#describes a collection of elements or #items of a similar type. Within these ndarrays, each item comprises the same size memory block and each block is identified the same way.\n",
        "#This enables efficient, fast, and easy manipulation of data for scientific #computing.\n",
        "\n",
        "#NumPy array operations are faster than Python Lists because NumPy arrays are compilations of similar data types and are packed densely in memory. By contrast, a Python List can have varying data types, placing additional constraints on the system while performing computation upon them.\n",
        "\n",
        "#Benefits of NumPy\n",
        "\n",
        "#Important benefits and properties of NumPy include:\n",
        "\n",
        "#NumPy’s ndarray computing concepts are at the core of the scientific Python and PyData ecosystems.\n",
        "#XNumPy provides a Python front-end for highly optimized C functions allowing for a simple Python interface with the speed of compiled code.\n",
        "#NumPy’s powerful N-dimensional array object integrates with a wide variety of libraries.\n",
        "#NumPy arrays can execute advanced mathematical operations with large data sets more efficiently and with less code than when using Python’s built-in lists. This is critical for scientific computing sequence, where size and speed are vital.\n"
      ]
    },
    {
      "cell_type": "code",
      "source": [
        "#Que .2. Compare and contrast np.mean() and np.average() functions in NumPy. When would you use one over the other?\n",
        "\n",
        "#Ans. #Difference between np.average() and np.mean()\n",
        "#Many more arguments, such as dtype, out, where, and others, are available in the np.mean() method that is not accessible in the np.average() function.\n",
        "#If the weights option is specified, the np.average() function may compute a weighted mean, but np.mean() cannot.\n",
        "#Since np.average does not take into consideration boolean masks, it will compute the average over the entire collection of data. While the np.mean() method takes into account\n",
        "#boolean masks, compute the mean #solely across unmasked data.\n",
        "#You've now seen the key differences between the np.average() and np.mean() functions. You may have noticed that if the weights are not supplied for np.average(),\n",
        "#it acts similarly to np.mean(); you may be asking #why you would ever use np.mean(). Let us try to answer this question in the following part."
      ],
      "metadata": {
        "id": "qkmRFAQ5ZADZ"
      },
      "execution_count": 1,
      "outputs": []
    },
    {
      "cell_type": "code",
      "source": [
        " #Que 3. Describe the methods for reversing a NumPy array along different axes. Provide examples for 1D and 2D arrays.\n",
        "\n",
        " #Ans. #Some of the most frequent methods for reversing a numpy array are as follows:\n",
        "#Utilizing the len() with Loops.\n",
        "#Using the list slicing technique.\n",
        "#Using the flip() function.\n",
        "#Using the reverse() function.\n",
        "#Using the flipud() function.\n",
        "#Using the fliplr() function.\n",
        "\n",
        "#Using flip() function to Reverse a Numpy array\n",
        "\n",
        "\n",
        "import numpy as np\n",
        "\n",
        "# initialising numpy array\n",
        "ini_array = np.array([1, 2, 3, 6, 4, 5])\n",
        "\n",
        "# using shortcut method to reverse\n",
        "res = np.flip(ini_array)\n",
        "\n",
        "# printing result\n",
        "print(\"final array\", str(res))\n"
      ],
      "metadata": {
        "colab": {
          "base_uri": "https://localhost:8080/"
        },
        "id": "ykBDBSNuaBZQ",
        "outputId": "d0d2e9ff-6373-407a-accb-350f7e9140e5"
      },
      "execution_count": 2,
      "outputs": [
        {
          "output_type": "stream",
          "name": "stdout",
          "text": [
            "final array [5 4 6 3 2 1]\n"
          ]
        }
      ]
    },
    {
      "cell_type": "code",
      "source": [
        "#Using the list slicing method to reverse a Numpy array\n",
        "\n",
        "import numpy as np\n",
        "\n",
        "# initialising numpy array\n",
        "ini_array = np.array([1, 2, 3, 6, 4, 5])\n",
        "\n",
        "# printing initial ini_array\n",
        "print(\"initial array\", str(ini_array))\n",
        "\n",
        "# printing type of ini_array\n",
        "print(\"type of ini_array\", type(ini_array))\n",
        "\n",
        "# using shortcut method to reverse\n",
        "res = ini_array[::-1]\n",
        "\n",
        "# printing result\n",
        "print(\"final array\", str(res))\n",
        "\n"
      ],
      "metadata": {
        "colab": {
          "base_uri": "https://localhost:8080/"
        },
        "id": "1BXA4OB7amnm",
        "outputId": "e280355e-5dfc-41d1-b27e-ee8a40b3881a"
      },
      "execution_count": 3,
      "outputs": [
        {
          "output_type": "stream",
          "name": "stdout",
          "text": [
            "initial array [1 2 3 6 4 5]\n",
            "type of ini_array <class 'numpy.ndarray'>\n",
            "final array [5 4 6 3 2 1]\n"
          ]
        }
      ]
    },
    {
      "cell_type": "code",
      "source": [
        "#Que.4. How can you determine the data type of elements in a NumPy array? Discuss the importance of data types in memory management and performance.\n",
        "\n",
        "#Ans. You can check the type of data present in the NumPy array using the '. dtype' attribute. The data type of array 'arr' is 'int' (integer).\n",
        "#XHere, '32' is related to memory allocation.\n",
        "\n",
        "\n",
        "#Data types are crucial in programming because they help to enforce code reliability and efficiency. They allow the compiler to allocate the right amount of memory for the data and perform the correct operations on it. Understanding data types and their\n",
        "#Xuses can lead to more robust and effective code.\n",
        "#Data types affect memory usage by determining the amount of memory allocated for storing values. For example, an integer typically\n",
        "#uses less memory than a floating-point number.\n"
      ],
      "metadata": {
        "id": "Rm70gh9aaus2"
      },
      "execution_count": null,
      "outputs": []
    },
    {
      "cell_type": "code",
      "source": [
        "#Que 5. Define ndarrays in NumPy and explain their key features. How do they differ from standard Python lists?\n",
        "\n",
        "#An ndarray is a (usually fixed-size) multidimensional container of items of the same type and size. The number of dimensions and items in an array is defined by its shape, which is a tuple of N non-negative\n",
        "#integers #Xthat specify the sizes of each dimension.\n",
        "#The type of items in the array is specified by a separate data-type object (dtype), one of which is associated with each ndarray.\n",
        "#As with other container objects in Python, the contents of an ndarray can be accessed and modified by indexing or slicing the array (using, for example, N integers), and\n",
        "#via the methods and attributes of the ndarray.\n",
        "\n",
        "\n",
        "#The main difference is that NumPy arrays are much faster and have strict requirements on the homogeneity of the objects. For example, a NumPy array of strings can only\n",
        "#contain strings and no other data types, but #a Python list can contain a mixture of strings, numbers, booleans and other objects.\n",
        "\n",
        "#Python Lists vs Arrays: How to Create Python Lists and Arrays\n",
        "#A list in Python is simply a collection of objects. These objects can be integers, floating point numbers, strings, boolean values or even other data structures like dictionaries.\n",
        "#An array, specifically a Python NumPy array, is similar to a Python list. The main difference is that NumPy arrays are much faster and have strict requirements on the homogeneity of the objects.\n",
        "#Both lists and NumPy arrays have a wide array of built-in methods for performing a variety of tasks including sorting, finding min/max, truncating, appending, concatenating and much more.\n"
      ],
      "metadata": {
        "id": "eDKXfNqjbn5D"
      },
      "execution_count": null,
      "outputs": []
    },
    {
      "cell_type": "code",
      "source": [
        "#Que.6 Analyze the performance benefits of NumPy arrays over Python lists for large-scale numerical operations ?\n",
        "\n",
        "#Ans. The benefits of using NumPy over traditional lists in Python -\n",
        "\n",
        "#1 .Speed Boost - NumPy arrays provide a significant speed advantage over traditional lists. This is because NumPy is built in C and uses optimized, pre-compiled code for numerical\n",
        "#operations. This allows for #vectorization, which means operations are applied to all elements in an array without the need for explicit loops in Python. This not only simplifies\n",
        "#your code but also accelerates execution, as vectorized operations #are inherently faster than their looped counterparts in high-level languages like Python.\n",
        "\n",
        "#2. Memory Usage -When it comes to memory efficiency, NumPy arrays are far superior to traditional lists. Each item in a NumPy array is of the same data type, requiring less\n",
        "##memory overhead compared to Python #lists where each element can be of a different type. Furthermore, NumPy arrays are stored contiguously in memory, which enhances performance by\n",
        "#allowing for efficient access and manipulation of data, particularly #beneficial when handling large datasets.\n",
        "\n",
        "# 3 Advanced Functions - NumPy comes with a plethora of built-in functions for performing complex mathematical operations, which are not only faster but also more reliable than\n",
        "#writing your own functions from #scratch. These functions cover a wide range of data science needs, from linear algebra to statistical operations. The convenience and efficiency\n",
        "#of having these advanced functions at your fingertips can greatly #accelerate your data analysis workflows.\n",
        "\n",
        "#4. Multidimensional Data - Traditional Python lists are not optimized for multidimensional data operations. NumPy, however, excels in handling such data structures with its\n",
        "#multidimensional array (ndarray) support. #This allows you to easily perform operations on data across multiple dimensions without the complexity and overhead of nested loops,\n",
        "#simplifying the manipulation and analysis of complex datasets often #encountered in data science."
      ],
      "metadata": {
        "id": "AbfRti5rdGPp"
      },
      "execution_count": null,
      "outputs": []
    },
    {
      "cell_type": "code",
      "source": [
        "#Que 7.  Compare vstack() and hstack() functions in NumPy. Provide examples demonstrating their usage and output.\n",
        "\n",
        "#Ans. vstack and hstack\n",
        "#Suppose you have a 3×3\n",
        "\n",
        "#array to which you wish to add a row or column. Adding a row is easy with np.vstack:\n",
        "\n",
        "a = np.ones((3, 3))\n",
        "a"
      ],
      "metadata": {
        "colab": {
          "base_uri": "https://localhost:8080/"
        },
        "id": "xb5PnU_keIPX",
        "outputId": "e32fd4d5-02aa-4f3c-d021-4b039e392b09"
      },
      "execution_count": 10,
      "outputs": [
        {
          "output_type": "execute_result",
          "data": {
            "text/plain": [
              "array([[1., 1., 1.],\n",
              "       [1., 1., 1.],\n",
              "       [1., 1., 1.]])"
            ]
          },
          "metadata": {},
          "execution_count": 10
        }
      ]
    },
    {
      "cell_type": "code",
      "source": [
        "np.vstack( (a, np.array((2,2,2))) )"
      ],
      "metadata": {
        "colab": {
          "base_uri": "https://localhost:8080/"
        },
        "id": "hSMl73LWgPmt",
        "outputId": "7f127399-c9ec-4651-e26a-c5cd40dcef92"
      },
      "execution_count": 12,
      "outputs": [
        {
          "output_type": "execute_result",
          "data": {
            "text/plain": [
              "array([[1., 1., 1.],\n",
              "       [1., 1., 1.],\n",
              "       [1., 1., 1.],\n",
              "       [2., 2., 2.]])"
            ]
          },
          "metadata": {},
          "execution_count": 12
        }
      ]
    },
    {
      "cell_type": "code",
      "source": [
        "#Adding a column requires a bit more work, however. You can't use np.hstack directly:\n",
        "\n",
        "a = np.ones((3, 3))\n",
        "np.hstack( (a, np.array((2,2,2))) )    #in tis way it will throw error\n"
      ],
      "metadata": {
        "colab": {
          "base_uri": "https://localhost:8080/",
          "height": 297
        },
        "id": "rw12WunpglCw",
        "outputId": "faaca12e-08e6-4153-fd7e-e3130936a7b8"
      },
      "execution_count": 13,
      "outputs": [
        {
          "output_type": "error",
          "ename": "ValueError",
          "evalue": "all the input arrays must have same number of dimensions, but the array at index 0 has 2 dimension(s) and the array at index 1 has 1 dimension(s)",
          "traceback": [
            "\u001b[0;31m---------------------------------------------------------------------------\u001b[0m",
            "\u001b[0;31mValueError\u001b[0m                                Traceback (most recent call last)",
            "\u001b[0;32m<ipython-input-13-d00715b88169>\u001b[0m in \u001b[0;36m<cell line: 4>\u001b[0;34m()\u001b[0m\n\u001b[1;32m      2\u001b[0m \u001b[0;34m\u001b[0m\u001b[0m\n\u001b[1;32m      3\u001b[0m \u001b[0ma\u001b[0m \u001b[0;34m=\u001b[0m \u001b[0mnp\u001b[0m\u001b[0;34m.\u001b[0m\u001b[0mones\u001b[0m\u001b[0;34m(\u001b[0m\u001b[0;34m(\u001b[0m\u001b[0;36m3\u001b[0m\u001b[0;34m,\u001b[0m \u001b[0;36m3\u001b[0m\u001b[0;34m)\u001b[0m\u001b[0;34m)\u001b[0m\u001b[0;34m\u001b[0m\u001b[0;34m\u001b[0m\u001b[0m\n\u001b[0;32m----> 4\u001b[0;31m \u001b[0mnp\u001b[0m\u001b[0;34m.\u001b[0m\u001b[0mhstack\u001b[0m\u001b[0;34m(\u001b[0m \u001b[0;34m(\u001b[0m\u001b[0ma\u001b[0m\u001b[0;34m,\u001b[0m \u001b[0mnp\u001b[0m\u001b[0;34m.\u001b[0m\u001b[0marray\u001b[0m\u001b[0;34m(\u001b[0m\u001b[0;34m(\u001b[0m\u001b[0;36m2\u001b[0m\u001b[0;34m,\u001b[0m\u001b[0;36m2\u001b[0m\u001b[0;34m,\u001b[0m\u001b[0;36m2\u001b[0m\u001b[0;34m)\u001b[0m\u001b[0;34m)\u001b[0m\u001b[0;34m)\u001b[0m \u001b[0;34m)\u001b[0m\u001b[0;34m\u001b[0m\u001b[0;34m\u001b[0m\u001b[0m\n\u001b[0m",
            "\u001b[0;32m/usr/local/lib/python3.10/dist-packages/numpy/core/shape_base.py\u001b[0m in \u001b[0;36mhstack\u001b[0;34m(tup, dtype, casting)\u001b[0m\n\u001b[1;32m    357\u001b[0m         \u001b[0;32mreturn\u001b[0m \u001b[0m_nx\u001b[0m\u001b[0;34m.\u001b[0m\u001b[0mconcatenate\u001b[0m\u001b[0;34m(\u001b[0m\u001b[0marrs\u001b[0m\u001b[0;34m,\u001b[0m \u001b[0;36m0\u001b[0m\u001b[0;34m,\u001b[0m \u001b[0mdtype\u001b[0m\u001b[0;34m=\u001b[0m\u001b[0mdtype\u001b[0m\u001b[0;34m,\u001b[0m \u001b[0mcasting\u001b[0m\u001b[0;34m=\u001b[0m\u001b[0mcasting\u001b[0m\u001b[0;34m)\u001b[0m\u001b[0;34m\u001b[0m\u001b[0;34m\u001b[0m\u001b[0m\n\u001b[1;32m    358\u001b[0m     \u001b[0;32melse\u001b[0m\u001b[0;34m:\u001b[0m\u001b[0;34m\u001b[0m\u001b[0;34m\u001b[0m\u001b[0m\n\u001b[0;32m--> 359\u001b[0;31m         \u001b[0;32mreturn\u001b[0m \u001b[0m_nx\u001b[0m\u001b[0;34m.\u001b[0m\u001b[0mconcatenate\u001b[0m\u001b[0;34m(\u001b[0m\u001b[0marrs\u001b[0m\u001b[0;34m,\u001b[0m \u001b[0;36m1\u001b[0m\u001b[0;34m,\u001b[0m \u001b[0mdtype\u001b[0m\u001b[0;34m=\u001b[0m\u001b[0mdtype\u001b[0m\u001b[0;34m,\u001b[0m \u001b[0mcasting\u001b[0m\u001b[0;34m=\u001b[0m\u001b[0mcasting\u001b[0m\u001b[0;34m)\u001b[0m\u001b[0;34m\u001b[0m\u001b[0;34m\u001b[0m\u001b[0m\n\u001b[0m\u001b[1;32m    360\u001b[0m \u001b[0;34m\u001b[0m\u001b[0m\n\u001b[1;32m    361\u001b[0m \u001b[0;34m\u001b[0m\u001b[0m\n",
            "\u001b[0;31mValueError\u001b[0m: all the input arrays must have same number of dimensions, but the array at index 0 has 2 dimension(s) and the array at index 1 has 1 dimension(s)"
          ]
        }
      ]
    },
    {
      "cell_type": "code",
      "source": [
        "#We can't simply transpose our new row, either, because it's a one-dimensional array and its transpose is the same shape as the original. So we need to reshape it first:\n",
        "\n",
        "\n",
        "a = np.ones((3, 3))\n",
        "b = np.array((2,2,2)).reshape(3,1)"
      ],
      "metadata": {
        "id": "EReGjzqOg3jg"
      },
      "execution_count": 14,
      "outputs": []
    },
    {
      "cell_type": "code",
      "source": [
        "a"
      ],
      "metadata": {
        "colab": {
          "base_uri": "https://localhost:8080/"
        },
        "id": "PA0HYCI5hSoO",
        "outputId": "139d4fd3-aebc-4cd5-f1b8-9163b6c8bf65"
      },
      "execution_count": 15,
      "outputs": [
        {
          "output_type": "execute_result",
          "data": {
            "text/plain": [
              "array([[1., 1., 1.],\n",
              "       [1., 1., 1.],\n",
              "       [1., 1., 1.]])"
            ]
          },
          "metadata": {},
          "execution_count": 15
        }
      ]
    },
    {
      "cell_type": "code",
      "source": [
        "b"
      ],
      "metadata": {
        "colab": {
          "base_uri": "https://localhost:8080/"
        },
        "id": "M2Y_Au53hTTH",
        "outputId": "d6eacd19-0b36-4399-bf73-40918464c239"
      },
      "execution_count": 16,
      "outputs": [
        {
          "output_type": "execute_result",
          "data": {
            "text/plain": [
              "array([[2],\n",
              "       [2],\n",
              "       [2]])"
            ]
          },
          "metadata": {},
          "execution_count": 16
        }
      ]
    },
    {
      "cell_type": "code",
      "source": [
        "np.hstack((a, b))"
      ],
      "metadata": {
        "colab": {
          "base_uri": "https://localhost:8080/"
        },
        "id": "VC2e17rehUTs",
        "outputId": "5de3515a-5e4d-4816-f15b-aae32f7257db"
      },
      "execution_count": 17,
      "outputs": [
        {
          "output_type": "execute_result",
          "data": {
            "text/plain": [
              "array([[1., 1., 1., 2.],\n",
              "       [1., 1., 1., 2.],\n",
              "       [1., 1., 1., 2.]])"
            ]
          },
          "metadata": {},
          "execution_count": 17
        }
      ]
    },
    {
      "cell_type": "code",
      "source": [
        "#Que.8 Explain the differences between fliplr() and flipud() methods in NumPy, including their effects on various array dime?\n",
        "\n",
        "#Ans. Python numpy.flip() Vs numpy.fliplr() functions\n",
        "\n",
        "# The numpy.flip() function reverses the order of elements in an array along the given axis, whereas, the numpy.fliplr() function reverses the order of elements along axis 1 (left/right).\n",
        "\n",
        "#numpy.flip() function\n",
        "#In NumPy, the numpy.flip() function is used to reverse the order of elements in an array along the given axis. Here, the shape of the array is preserved, but the elements are reordered. It takes a specified axis or axes #as a parameter along which to flip over the order of elements.\n",
        "\n",
        "#Below is the syntax of numpy.flip() function:\n",
        "\n",
        "# Python Program illustrating\n",
        "# numpy.flip() method\n",
        "\n",
        "import numpy as geek\n",
        "\n",
        "array = geek.arange(8).reshape((2,2,2))\n",
        "print(\"Original array : \\n\", array)\n",
        "\n",
        "print(\"Flipped array : \\n\", geek.flip(array, 0))\n",
        "\n",
        "\n"
      ],
      "metadata": {
        "colab": {
          "base_uri": "https://localhost:8080/"
        },
        "id": "xsvuBkqehYpr",
        "outputId": "734f248f-9a41-4dfa-b8da-0e05040bb409"
      },
      "execution_count": 18,
      "outputs": [
        {
          "output_type": "stream",
          "name": "stdout",
          "text": [
            "Original array : \n",
            " [[[0 1]\n",
            "  [2 3]]\n",
            "\n",
            " [[4 5]\n",
            "  [6 7]]]\n",
            "Flipped array : \n",
            " [[[4 5]\n",
            "  [6 7]]\n",
            "\n",
            " [[0 1]\n",
            "  [2 3]]]\n"
          ]
        }
      ]
    },
    {
      "cell_type": "code",
      "source": [
        "#numpy.fliplr() in Python\n",
        "\n",
        "# Python Program illustrating\n",
        "# numpy.fliplr() method\n",
        "\n",
        "import numpy as geek\n",
        "\n",
        "array = geek.arange(8).reshape((2,2,2))\n",
        "print(\"Original array : \\n\", array)\n",
        "\n",
        "# fliplr : means flip left-right\n",
        "print(\"\\nFlipped array left-right : \\n\", geek.fliplr(array))\n"
      ],
      "metadata": {
        "colab": {
          "base_uri": "https://localhost:8080/"
        },
        "id": "-QptuGkbsgqR",
        "outputId": "b74a6a1f-1769-439a-b74e-a4ad6aaf810a"
      },
      "execution_count": 19,
      "outputs": [
        {
          "output_type": "stream",
          "name": "stdout",
          "text": [
            "Original array : \n",
            " [[[0 1]\n",
            "  [2 3]]\n",
            "\n",
            " [[4 5]\n",
            "  [6 7]]]\n",
            "\n",
            "Flipped array left-right : \n",
            " [[[2 3]\n",
            "  [0 1]]\n",
            "\n",
            " [[6 7]\n",
            "  [4 5]]]\n"
          ]
        }
      ]
    },
    {
      "cell_type": "code",
      "source": [
        "#Que.9 Discuss the functionality of the array_split() method in NumPy. How does it handle uneven splits?\n",
        "\n",
        "#Ans. #numpy. array_split() s plitting into equal or nearly equal sub-arrays or is similar to numpy. split(), but it allows for uneven splitting of arrays.\n",
        "#This is useful when the array cannot be evenly divided by the specified #number of splits.\n",
        "\n",
        "\n",
        "#Array splitting in NumPy is like a slice of cake. Think of each element in a NumPy array as a slice of cake. Splitting divides this “cake” into smaller “slices” (sub-arrays), often along specific dimensions or based on #certain criteria. We can split horizontally, vertically, or even diagonally depending on our needs.\n",
        "\n",
        "#The split(), hsplit(), vsplit(), and dsplit() functions are important tools for dividing arrays along various axes and dimensions. These functions are particularly useful when working with one-dimensional arrays, #matrices, or high-dimensional datasets. NumPy’s array-splitting capabilities are crucial for enhancing the efficiency and flexibility of data processing workflows.\n",
        "\n",
        "#Key concepts and terminology\n",
        "#Here are some important terms to understand when splitting arrays:\n",
        "\n",
        "#Axis: The dimension along which the array is split (e.g., rows, columns, depth).\n",
        "#Sub-arrays: The smaller arrays resulting from the split.\n",
        "#Splitting methods: Different functions in NumPy for splitting arrays (e.g., np.split(), np.vsplit(), np.hsplit(), etc.).\n",
        "#Equal vs. Unequal splits: Whether the sub-arrays have the same size or no\n",
        "\n",
        "\n",
        "import numpy as np\n",
        "arr = np.array([1, 2, 3, 4, 5, 6])\n",
        "array = np.array_split(arr, 3)\n",
        "print(array)\n",
        "\n",
        "\n"
      ],
      "metadata": {
        "colab": {
          "base_uri": "https://localhost:8080/"
        },
        "id": "skXf80NKsnm5",
        "outputId": "04fd9667-725e-4f45-a8b9-1df7b91875eb"
      },
      "execution_count": 21,
      "outputs": [
        {
          "output_type": "stream",
          "name": "stdout",
          "text": [
            "[array([1, 2]), array([3, 4]), array([5, 6])]\n"
          ]
        }
      ]
    },
    {
      "cell_type": "code",
      "source": [
        " #Que 10 .  Explain the concepts of vectorization and broadcasting in NumPy. How do they contribute to efficient array operations?\n",
        "\n",
        "#Ans. The term broadcasting refers to the ability of NumPy to treat arrays with different dimensions during arithmetic operations. This process involves certain rules that allow the smaller array to be ‘broadcast’ across #the larger one, ensuring that they have compatible shapes for these operations.\n",
        "#Broadcasting is not limited to two arrays; it can be applied over multiple arrays as well.\n",
        "#In this article, we will learn about broadcast over multiple arrays in the NumPy extension in Python.\n",
        "\n",
        "#Broadcasting provides a means of vectorizing array operations, therefore eliminating the need for Python loops. This is because NumPy is implemented in C Programming, which is a very efficient language.\n",
        "#It does this without making needless copies of data which leads to efficient algorithm implementations. But broadcasting over multiple arrays in NumPy extension can raise cases where broadcasting is a bad idea #because it leads to inefficient use of memory that slows down the computation.\n",
        "#The resulting array returned after broadcasting will have the same number of dimensions as the array with the greatest number of dimensions.\n",
        "\n",
        "#Let’s assume that we have a large data set, each data is a list of parameters. In Numpy, we have a 2-D array, where each row is data and the number of rows is the size of the data set. Suppose we want to apply some #sort of scaling to all these data every parameter gets its scaling factor or say every parameter is multiplied by some factor.\n",
        "#Just to have a clear understanding, let’s count calories in foods using a macro-nutrient breakdown. Roughly put, the caloric parts of food are made of fats (9 calories per gram), protein (4 CPG), and carbs (4 CPG).\n",
        "#So if we list some foods (our data), and for each food list its macro-nutrient breakdown (parameters), we can then multiply each nutrient by its caloric value (apply scaling) to compute the caloric breakdown of every food item.\n",
        "\n"
      ],
      "metadata": {
        "id": "OKSqgA8utMFZ"
      },
      "execution_count": null,
      "outputs": []
    },
    {
      "cell_type": "code",
      "source": [
        "#practilce question|"
      ],
      "metadata": {
        "id": "mOIgGaMQvG9I"
      },
      "execution_count": 22,
      "outputs": []
    },
    {
      "cell_type": "code",
      "source": [
        "#Que.1 Create a 3x3 NumPy array with random integers between 1 and 100. Then, interchange its rows and columns.\n",
        "\n",
        "#Ans 1. Create a 3x3 NumPy array with random integers between 1 and 100. Then, interchange its rows and columns.\n",
        "\n",
        "import numpy as np\n",
        "\n",
        "# Create a 3x3 array with random integers between 1 and 100\n",
        "array = np.random.randint(1, 101, size=(3, 3))\n",
        "print(\"Original array:\")\n",
        "print(array)\n",
        "\n",
        "# Interchange rows and columns (transpose)\n",
        "transposed_array = array.transpose()\n",
        "print(\"\\nTransposed array:\")\n",
        "print(transposed_array)\n"
      ],
      "metadata": {
        "colab": {
          "base_uri": "https://localhost:8080/"
        },
        "id": "Lq-8nP2cwIO8",
        "outputId": "280394ac-5a92-4062-ce41-dee89e80d3f8"
      },
      "execution_count": 23,
      "outputs": [
        {
          "output_type": "stream",
          "name": "stdout",
          "text": [
            "Original array:\n",
            "[[69  2 68]\n",
            " [53 94 30]\n",
            " [35 77 95]]\n",
            "\n",
            "Transposed array:\n",
            "[[69 53 35]\n",
            " [ 2 94 77]\n",
            " [68 30 95]]\n"
          ]
        }
      ]
    },
    {
      "cell_type": "code",
      "source": [
        "#Que 2 Generate a 1D NumPy array with 10 elements. Reshape it into a 2x5 array, then into a 5x2 array?\n",
        "\n",
        "#Ans. import numpy as np\n",
        "arr = np.arange(10)\n"
      ],
      "metadata": {
        "id": "yGRMtnpwwlDZ"
      },
      "execution_count": 24,
      "outputs": []
    },
    {
      "cell_type": "code",
      "source": [
        "arr"
      ],
      "metadata": {
        "colab": {
          "base_uri": "https://localhost:8080/"
        },
        "id": "ro1IK_ibyR0U",
        "outputId": "07f1f00a-e386-4c3e-ba85-b7552877d46c"
      },
      "execution_count": 27,
      "outputs": [
        {
          "output_type": "execute_result",
          "data": {
            "text/plain": [
              "array([0, 1, 2, 3, 4, 5, 6, 7, 8, 9])"
            ]
          },
          "metadata": {},
          "execution_count": 27
        }
      ]
    },
    {
      "cell_type": "code",
      "source": [
        "arr_2x5 = arr.reshape(2, 5)"
      ],
      "metadata": {
        "id": "oN_5QBFkyTXh"
      },
      "execution_count": 28,
      "outputs": []
    },
    {
      "cell_type": "code",
      "source": [
        "arr_2x5"
      ],
      "metadata": {
        "colab": {
          "base_uri": "https://localhost:8080/"
        },
        "id": "SrBeiWbgyZeU",
        "outputId": "81b4e6ab-6915-4be0-9b9c-81fc18617554"
      },
      "execution_count": 29,
      "outputs": [
        {
          "output_type": "execute_result",
          "data": {
            "text/plain": [
              "array([[0, 1, 2, 3, 4],\n",
              "       [5, 6, 7, 8, 9]])"
            ]
          },
          "metadata": {},
          "execution_count": 29
        }
      ]
    },
    {
      "cell_type": "code",
      "source": [
        "arr_5x2 = arr.reshape(5, 2)"
      ],
      "metadata": {
        "id": "Aq89YcSuya_K"
      },
      "execution_count": 30,
      "outputs": []
    },
    {
      "cell_type": "code",
      "source": [
        "arr_5x2"
      ],
      "metadata": {
        "colab": {
          "base_uri": "https://localhost:8080/"
        },
        "id": "a_vlVK6byd5m",
        "outputId": "e080a0cd-89b6-4570-fa81-410a8c429bb4"
      },
      "execution_count": 31,
      "outputs": [
        {
          "output_type": "execute_result",
          "data": {
            "text/plain": [
              "array([[0, 1],\n",
              "       [2, 3],\n",
              "       [4, 5],\n",
              "       [6, 7],\n",
              "       [8, 9]])"
            ]
          },
          "metadata": {},
          "execution_count": 31
        }
      ]
    },
    {
      "cell_type": "code",
      "source": [
        "#Que 3. Create a 4x4 NumPy array with random float values. Add a border of zeros around it, resulting in a 6x6 array ?\n",
        "\n",
        "#Ans.\n",
        "import numpy as np\n",
        "random_array = np.random.rand(4, 4)\n",
        "padded_array = np.pad(random_array, pad_width=1, mode='constant', constant_values=0)"
      ],
      "metadata": {
        "id": "CpL-2l6Vye27"
      },
      "execution_count": 33,
      "outputs": []
    },
    {
      "cell_type": "code",
      "source": [
        "random_array"
      ],
      "metadata": {
        "colab": {
          "base_uri": "https://localhost:8080/"
        },
        "id": "NWDfhAng0JIk",
        "outputId": "9324943e-7420-42d0-f40d-a37e9eddc742"
      },
      "execution_count": 34,
      "outputs": [
        {
          "output_type": "execute_result",
          "data": {
            "text/plain": [
              "array([[0.28137017, 0.81647607, 0.01331366, 0.45609035],\n",
              "       [0.60494895, 0.07680853, 0.87964182, 0.35089739],\n",
              "       [0.00630232, 0.80719855, 0.73214285, 0.26007963],\n",
              "       [0.39144015, 0.34931014, 0.65148011, 0.23251304]])"
            ]
          },
          "metadata": {},
          "execution_count": 34
        }
      ]
    },
    {
      "cell_type": "code",
      "source": [
        "padded_array"
      ],
      "metadata": {
        "colab": {
          "base_uri": "https://localhost:8080/"
        },
        "id": "MMz2CzHX0L9p",
        "outputId": "1dede039-654d-4d7e-8101-efc62f100d02"
      },
      "execution_count": 35,
      "outputs": [
        {
          "output_type": "execute_result",
          "data": {
            "text/plain": [
              "array([[0.        , 0.        , 0.        , 0.        , 0.        ,\n",
              "        0.        ],\n",
              "       [0.        , 0.28137017, 0.81647607, 0.01331366, 0.45609035,\n",
              "        0.        ],\n",
              "       [0.        , 0.60494895, 0.07680853, 0.87964182, 0.35089739,\n",
              "        0.        ],\n",
              "       [0.        , 0.00630232, 0.80719855, 0.73214285, 0.26007963,\n",
              "        0.        ],\n",
              "       [0.        , 0.39144015, 0.34931014, 0.65148011, 0.23251304,\n",
              "        0.        ],\n",
              "       [0.        , 0.        , 0.        , 0.        , 0.        ,\n",
              "        0.        ]])"
            ]
          },
          "metadata": {},
          "execution_count": 35
        }
      ]
    },
    {
      "cell_type": "code",
      "source": [
        "#Que 4. Using NumPy, create an array of integers from 10 to 60 with a step of 5.?\n",
        "\n",
        "#Ans. import numpy as np\n",
        "arr = np.arange(10, 61, 5)\n",
        "print(arr)"
      ],
      "metadata": {
        "colab": {
          "base_uri": "https://localhost:8080/"
        },
        "id": "0B-p9tzo0NmD",
        "outputId": "f05a7a31-c8d5-433b-d808-66b62094dccb"
      },
      "execution_count": 36,
      "outputs": [
        {
          "output_type": "stream",
          "name": "stdout",
          "text": [
            "[10 15 20 25 30 35 40 45 50 55 60]\n"
          ]
        }
      ]
    },
    {
      "cell_type": "code",
      "source": [
        "#Que 5. Create a NumPy array of strings ['python', 'numpy', 'pandas']. Apply different case transformations (uppercase, lowercase, title case, etc.) to each element.?\n",
        "\n",
        "#Ans.\n",
        "\n",
        "w = [\"python\" , \"numpy\" , \"pandas\"]\n",
        "\n",
        "v = np.array(w)"
      ],
      "metadata": {
        "id": "BrhCU_lA0pRx"
      },
      "execution_count": 38,
      "outputs": []
    },
    {
      "cell_type": "code",
      "source": [
        "v"
      ],
      "metadata": {
        "colab": {
          "base_uri": "https://localhost:8080/"
        },
        "id": "hXNGPRG36feb",
        "outputId": "ddccb8c0-6a0f-4b8d-a8eb-d7782cb588e9"
      },
      "execution_count": 39,
      "outputs": [
        {
          "output_type": "execute_result",
          "data": {
            "text/plain": [
              "array(['python', 'numpy', 'pandas'], dtype='<U6')"
            ]
          },
          "metadata": {},
          "execution_count": 39
        }
      ]
    },
    {
      "cell_type": "code",
      "source": [
        "np.char.upper(v)"
      ],
      "metadata": {
        "colab": {
          "base_uri": "https://localhost:8080/"
        },
        "id": "EylHlfuQ6icf",
        "outputId": "5514b547-f7cc-4ecc-8abb-c3621bd3a427"
      },
      "execution_count": 40,
      "outputs": [
        {
          "output_type": "execute_result",
          "data": {
            "text/plain": [
              "array(['PYTHON', 'NUMPY', 'PANDAS'], dtype='<U6')"
            ]
          },
          "metadata": {},
          "execution_count": 40
        }
      ]
    },
    {
      "cell_type": "code",
      "source": [
        "np.char.lower(v)"
      ],
      "metadata": {
        "colab": {
          "base_uri": "https://localhost:8080/"
        },
        "id": "xr3LmlN46lSy",
        "outputId": "e521ffd0-07af-49a0-e06d-66a43791ac08"
      },
      "execution_count": 41,
      "outputs": [
        {
          "output_type": "execute_result",
          "data": {
            "text/plain": [
              "array(['python', 'numpy', 'pandas'], dtype='<U6')"
            ]
          },
          "metadata": {},
          "execution_count": 41
        }
      ]
    },
    {
      "cell_type": "code",
      "source": [
        "np.char.title(v)"
      ],
      "metadata": {
        "colab": {
          "base_uri": "https://localhost:8080/"
        },
        "id": "8ziiGgC26nJQ",
        "outputId": "efc39004-c5e3-49ed-812a-4690585a9aed"
      },
      "execution_count": 42,
      "outputs": [
        {
          "output_type": "execute_result",
          "data": {
            "text/plain": [
              "array(['Python', 'Numpy', 'Pandas'], dtype='<U6')"
            ]
          },
          "metadata": {},
          "execution_count": 42
        }
      ]
    },
    {
      "cell_type": "code",
      "source": [
        "#Que6. Generate a NumPy array of words. Insert a space between each character of every word in the array.\n",
        "\n",
        "import numpy as np\n",
        "arr = np.array(['python', 'numpy', 'pandas'])\n",
        "result = np.char.join(' ', arr)\n",
        "print(result)\n"
      ],
      "metadata": {
        "colab": {
          "base_uri": "https://localhost:8080/"
        },
        "id": "X6Ew3mh36oXi",
        "outputId": "c414c458-220e-43af-dd2a-5ba5ef736e2f"
      },
      "execution_count": 43,
      "outputs": [
        {
          "output_type": "stream",
          "name": "stdout",
          "text": [
            "['p y t h o n' 'n u m p y' 'p a n d a s']\n"
          ]
        }
      ]
    },
    {
      "cell_type": "code",
      "source": [
        "#Que 7.Create two 2D NumPy arrays and perform element-wise addition, subtraction, multiplication, and division.?\n",
        "\n",
        "#Ans.7\n",
        "\n",
        "a = np.array([[1,2],[1,6]])\n",
        "b = np.array([[1,2],[1,6]])"
      ],
      "metadata": {
        "id": "-AicbMqe7EvS"
      },
      "execution_count": 44,
      "outputs": []
    },
    {
      "cell_type": "code",
      "source": [
        "a"
      ],
      "metadata": {
        "colab": {
          "base_uri": "https://localhost:8080/"
        },
        "id": "gI7juQ3m85D3",
        "outputId": "205163d3-6b9d-4c21-9ad1-700030599f05"
      },
      "execution_count": 45,
      "outputs": [
        {
          "output_type": "execute_result",
          "data": {
            "text/plain": [
              "array([[1, 2],\n",
              "       [1, 6]])"
            ]
          },
          "metadata": {},
          "execution_count": 45
        }
      ]
    },
    {
      "cell_type": "code",
      "source": [
        "b"
      ],
      "metadata": {
        "colab": {
          "base_uri": "https://localhost:8080/"
        },
        "id": "nH_7M88B85bJ",
        "outputId": "f0c1e0c0-219a-4977-939f-3b640d455f77"
      },
      "execution_count": 46,
      "outputs": [
        {
          "output_type": "execute_result",
          "data": {
            "text/plain": [
              "array([[1, 2],\n",
              "       [1, 6]])"
            ]
          },
          "metadata": {},
          "execution_count": 46
        }
      ]
    },
    {
      "cell_type": "code",
      "source": [
        "Add = a+b"
      ],
      "metadata": {
        "id": "t6NV9zB886Ql"
      },
      "execution_count": 47,
      "outputs": []
    },
    {
      "cell_type": "code",
      "source": [
        "Add"
      ],
      "metadata": {
        "colab": {
          "base_uri": "https://localhost:8080/"
        },
        "id": "GaVduI90878n",
        "outputId": "8129e1b9-d728-429d-8c14-79b42d6ce452"
      },
      "execution_count": 49,
      "outputs": [
        {
          "output_type": "execute_result",
          "data": {
            "text/plain": [
              "array([[ 2,  4],\n",
              "       [ 2, 12]])"
            ]
          },
          "metadata": {},
          "execution_count": 49
        }
      ]
    },
    {
      "cell_type": "code",
      "source": [
        "sub = a-b"
      ],
      "metadata": {
        "id": "U5dyA2mV89ch"
      },
      "execution_count": 50,
      "outputs": []
    },
    {
      "cell_type": "code",
      "source": [
        "sub"
      ],
      "metadata": {
        "colab": {
          "base_uri": "https://localhost:8080/"
        },
        "id": "bKSYKj1a9AkO",
        "outputId": "fcaef316-0b34-4671-940e-8fddcd81abcb"
      },
      "execution_count": 51,
      "outputs": [
        {
          "output_type": "execute_result",
          "data": {
            "text/plain": [
              "array([[0, 0],\n",
              "       [0, 0]])"
            ]
          },
          "metadata": {},
          "execution_count": 51
        }
      ]
    },
    {
      "cell_type": "code",
      "source": [
        "multi = a*b"
      ],
      "metadata": {
        "id": "dw-6e94D9BSO"
      },
      "execution_count": 52,
      "outputs": []
    },
    {
      "cell_type": "code",
      "source": [
        "multi"
      ],
      "metadata": {
        "colab": {
          "base_uri": "https://localhost:8080/"
        },
        "id": "qChkjyyn9ESs",
        "outputId": "9a9b3413-82c9-4c74-eff5-2212b477c055"
      },
      "execution_count": 53,
      "outputs": [
        {
          "output_type": "execute_result",
          "data": {
            "text/plain": [
              "array([[ 1,  4],\n",
              "       [ 1, 36]])"
            ]
          },
          "metadata": {},
          "execution_count": 53
        }
      ]
    },
    {
      "cell_type": "code",
      "source": [
        "division= a/b"
      ],
      "metadata": {
        "id": "PVMwBmOn9FZV"
      },
      "execution_count": 54,
      "outputs": []
    },
    {
      "cell_type": "code",
      "source": [
        "division"
      ],
      "metadata": {
        "colab": {
          "base_uri": "https://localhost:8080/"
        },
        "id": "-xkvpyN59H54",
        "outputId": "f1a8b5ed-77d7-409c-d638-bf26f0b0c8be"
      },
      "execution_count": 55,
      "outputs": [
        {
          "output_type": "execute_result",
          "data": {
            "text/plain": [
              "array([[1., 1.],\n",
              "       [1., 1.]])"
            ]
          },
          "metadata": {},
          "execution_count": 55
        }
      ]
    },
    {
      "cell_type": "code",
      "source": [
        "#Que.8 Use NumPy to create a 5x5 identity matrix, then extract its diagonal elements.?\n",
        "\n",
        "d = np.eye(5)"
      ],
      "metadata": {
        "id": "6IMGGNos9IzS"
      },
      "execution_count": 56,
      "outputs": []
    },
    {
      "cell_type": "code",
      "source": [
        "d"
      ],
      "metadata": {
        "colab": {
          "base_uri": "https://localhost:8080/"
        },
        "id": "Cxpbhi8i9sgm",
        "outputId": "a1f097e4-ad7f-4137-cb43-3b1730ea91af"
      },
      "execution_count": 57,
      "outputs": [
        {
          "output_type": "execute_result",
          "data": {
            "text/plain": [
              "array([[1., 0., 0., 0., 0.],\n",
              "       [0., 1., 0., 0., 0.],\n",
              "       [0., 0., 1., 0., 0.],\n",
              "       [0., 0., 0., 1., 0.],\n",
              "       [0., 0., 0., 0., 1.]])"
            ]
          },
          "metadata": {},
          "execution_count": 57
        }
      ]
    },
    {
      "cell_type": "code",
      "source": [
        "z = np.diag(d)\n",
        "z"
      ],
      "metadata": {
        "colab": {
          "base_uri": "https://localhost:8080/"
        },
        "id": "IP9XqKgE9tU6",
        "outputId": "d68065c6-d5a2-4cff-b9e6-676356227f61"
      },
      "execution_count": 58,
      "outputs": [
        {
          "output_type": "execute_result",
          "data": {
            "text/plain": [
              "array([1., 1., 1., 1., 1.])"
            ]
          },
          "metadata": {},
          "execution_count": 58
        }
      ]
    },
    {
      "cell_type": "code",
      "source": [
        "#Que 9.Generate a NumPy array of 100 random integers between 0 and 1000. Find and display all prime numbers in this array.?\n",
        "\n",
        "#Ans.\n",
        "\n",
        "import numpy as np\n",
        "def is_prime(n):\n",
        "  if n <= 1:\n",
        "    return False\n",
        "  if n <= 3:\n",
        "    return True\n",
        "  if n % 2 == 0 or n % 3 == 0:\n",
        "    return False\n",
        "  i = 5\n",
        "  while i * i <= n:\n",
        "    if n % i == 0 or n % (i + 2) == 0:\n",
        "      return False\n",
        "    i = i + 6\n",
        "  return True\n",
        "\n",
        "r = np.random.randint(0,1001,(100))\n",
        "r\n"
      ],
      "metadata": {
        "colab": {
          "base_uri": "https://localhost:8080/"
        },
        "id": "z3SjPWQ4AnWt",
        "outputId": "718e23e7-8b3e-4c7e-8582-6b2995f7f1fb"
      },
      "execution_count": 59,
      "outputs": [
        {
          "output_type": "execute_result",
          "data": {
            "text/plain": [
              "array([483, 247, 189,  83, 457, 436,  12, 817, 741, 153, 229, 724, 997,\n",
              "       189, 448, 669, 258, 738, 794, 369, 474, 884, 951, 213, 465, 936,\n",
              "       383, 447, 925, 736, 489, 505, 263, 436, 373, 941,  18, 230, 226,\n",
              "       737, 809, 366, 204, 549,   3, 498,  91,  64, 458, 483, 471, 249,\n",
              "       473, 621,  87, 473, 380, 726, 901, 416, 863, 385, 384, 881, 983,\n",
              "       545, 655, 512, 112, 298, 966, 879, 180, 124, 940, 203, 445, 189,\n",
              "       455, 520, 645, 443,  68, 331,  54, 230, 421, 935, 751, 246, 815,\n",
              "        81, 734, 810, 266, 105, 808, 660, 873, 293])"
            ]
          },
          "metadata": {},
          "execution_count": 59
        }
      ]
    },
    {
      "cell_type": "code",
      "source": [
        "q = [num for num in r if is_prime(num)]\n",
        "q"
      ],
      "metadata": {
        "colab": {
          "base_uri": "https://localhost:8080/"
        },
        "id": "WhKFxKz5A-dF",
        "outputId": "2f477d8a-45b0-4054-de06-7ccdfdc95bcb"
      },
      "execution_count": 64,
      "outputs": [
        {
          "output_type": "execute_result",
          "data": {
            "text/plain": [
              "[83,\n",
              " 457,\n",
              " 229,\n",
              " 997,\n",
              " 383,\n",
              " 263,\n",
              " 373,\n",
              " 941,\n",
              " 809,\n",
              " 3,\n",
              " 863,\n",
              " 881,\n",
              " 983,\n",
              " 443,\n",
              " 331,\n",
              " 421,\n",
              " 751,\n",
              " 293]"
            ]
          },
          "metadata": {},
          "execution_count": 64
        }
      ]
    },
    {
      "cell_type": "code",
      "source": [
        "#Que 10.Create a NumPy array representing daily temperatures for a month. Calculate and display the weekly averages.?\n",
        "\n",
        "#Ans.\n",
        "\n",
        "import numpy as np\n",
        "# Sample daily temperatures for a month (replace with actual data)\n",
        "daily_temps = np.array([25, 26, 24, 28, 30, 29, 27,\n",
        "                        26, 28, 29, 31, 30, 28,\n",
        "                        27, 26, 25, 24, 23, 25,\n",
        "                        27, 28, 29, 30, 31, 32,\n",
        "                        30, 29, 28, 27, 26])\n",
        "\n",
        "# Reshape the array to represent weeks (assuming 4 weeks in a month)\n",
        "weekly_temps = daily_temps.reshape(5, 6)\n",
        "\n",
        "# Calculate weekly averages\n",
        "weekly_averages = np.mean(weekly_temps, axis=1)\n",
        "\n",
        "# Display weekly averages\n",
        "print(\"Weekly Averages:\", weekly_averages)"
      ],
      "metadata": {
        "colab": {
          "base_uri": "https://localhost:8080/"
        },
        "id": "JkE4G7rICezf",
        "outputId": "eea5126e-f605-4258-ce1f-11bc73c48657"
      },
      "execution_count": 69,
      "outputs": [
        {
          "output_type": "stream",
          "name": "stdout",
          "text": [
            "Weekly Averages: [27.         28.5        25.5        28.33333333 28.66666667]\n"
          ]
        }
      ]
    },
    {
      "cell_type": "code",
      "source": [],
      "metadata": {
        "id": "egrTjOXOEjHe"
      },
      "execution_count": null,
      "outputs": []
    }
  ]
}